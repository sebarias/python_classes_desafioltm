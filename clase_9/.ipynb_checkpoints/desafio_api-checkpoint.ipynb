{
 "cells": [
  {
   "cell_type": "markdown",
   "metadata": {},
   "source": [
    "# Desafío - API\n",
    "\n",
    "- Para este desafío, se debe usar la API de pruebas de reqres , disponible en https://reqres.in/\n",
    "- Esta API no requiere autenticación, y su único recurso es users .\n",
    "- Todas las solicitudes se hacen a https://reqres.in/api/users.\n",
    "- Puede utilizar el código entregado por Postman.\n",
    "- Se considerará para la evaluación que las respuestas de la API sean exitosas."
   ]
  },
  {
   "cell_type": "markdown",
   "metadata": {},
   "source": [
    "### Desafío 1\n",
    "\n",
    "Crear el programa `fake_request.py` , que contenga la función `request` . Esta función debe:\n",
    "- Recibir como parámetro obligatorio un `method` , que será el verbo a utilizar en la request\n",
    "- Recibir como parámetro obligatorio una `url` , que será la url a usar en la request\n",
    "- Recibir como parámetro opcional un `payload` (por defecto string vacío), que será la data a utilizar en\n",
    "la request\n",
    "- La función debe realizar una solicitud a la api con la URL, el verbo, y el payload indicado, y retornar la\n",
    "respuesta obtenida: \n",
    "    - Para los casos de GET, POST y PUT, la respuesta exitosa entrega un json y un código. En estos\n",
    "casos, debe retornar el json como diccionario de Python.\n",
    "    - Para el caso de DELETE, la respuesta exitosa solo entrega el código de respuesta. En este caso,\n",
    "debe retornar el código de respuesta. "
   ]
  },
  {
   "cell_type": "code",
   "execution_count": 13,
   "metadata": {},
   "outputs": [],
   "source": [
    "import requests\n",
    "import json\n",
    "\n",
    "def request(url,verbo, payload = \"\"):\n",
    "    headers = {\n",
    "    'cache-control': \"no-cache\",\n",
    "    'Postman-Token': \"868aab26-2592-4a24-8f2a-04346a972c88\"\n",
    "    }\n",
    "    verbo = verbo.upper()\n",
    "    response = requests.request(verbo, url, data=payload, headers=headers)\n",
    "    if(verbo != \"DELETE\"):\n",
    "        return json.loads(response.text)\n",
    "    else:\n",
    "        return response\n",
    "    \n"
   ]
  },
  {
   "cell_type": "markdown",
   "metadata": {},
   "source": [
    "### Desafío 2\n",
    "\n",
    "- Utilice la función del ejercicio 1 para listar los usuarios, e imprima el retorno en pantalla (por defecto\n",
    "mostrará 3)"
   ]
  },
  {
   "cell_type": "code",
   "execution_count": 16,
   "metadata": {},
   "outputs": [
    {
     "name": "stdout",
     "output_type": "stream",
     "text": [
      "{'page': 1, 'per_page': 6, 'total': 12, 'total_pages': 2, 'data': [{'id': 1, 'email': 'george.bluth@reqres.in', 'first_name': 'George', 'last_name': 'Bluth', 'avatar': 'https://s3.amazonaws.com/uifaces/faces/twitter/calebogden/128.jpg'}, {'id': 2, 'email': 'janet.weaver@reqres.in', 'first_name': 'Janet', 'last_name': 'Weaver', 'avatar': 'https://s3.amazonaws.com/uifaces/faces/twitter/josephstein/128.jpg'}, {'id': 3, 'email': 'emma.wong@reqres.in', 'first_name': 'Emma', 'last_name': 'Wong', 'avatar': 'https://s3.amazonaws.com/uifaces/faces/twitter/olegpogodaev/128.jpg'}, {'id': 4, 'email': 'eve.holt@reqres.in', 'first_name': 'Eve', 'last_name': 'Holt', 'avatar': 'https://s3.amazonaws.com/uifaces/faces/twitter/marcoramires/128.jpg'}, {'id': 5, 'email': 'charles.morris@reqres.in', 'first_name': 'Charles', 'last_name': 'Morris', 'avatar': 'https://s3.amazonaws.com/uifaces/faces/twitter/stephenmoon/128.jpg'}, {'id': 6, 'email': 'tracey.ramos@reqres.in', 'first_name': 'Tracey', 'last_name': 'Ramos', 'avatar': 'https://s3.amazonaws.com/uifaces/faces/twitter/bigmancho/128.jpg'}], 'ad': {'company': 'StatusCode Weekly', 'url': 'http://statuscode.org/', 'text': 'A weekly newsletter focusing on software development, infrastructure, the server, performance, and the stack end of things.'}}\n"
     ]
    }
   ],
   "source": [
    "url = \"https://reqres.in/api/users\"\n",
    "print(request(url,\"GET\"))"
   ]
  },
  {
   "cell_type": "markdown",
   "metadata": {},
   "source": [
    "### Desafío 3\n",
    "\n",
    "- Utilice la función del ejercicio 1 para crear un usuario, e imprima el retorno en pantalla"
   ]
  },
  {
   "cell_type": "code",
   "execution_count": 22,
   "metadata": {},
   "outputs": [
    {
     "name": "stdout",
     "output_type": "stream",
     "text": [
      "{'id': '953', 'createdAt': '2020-06-10T03:02:17.439Z'}\n"
     ]
    }
   ],
   "source": [
    "user = \"{\\\"name\\\": \\\"morpheus\\\",\\\"job\\\": \\\"leader\\\"}\"\n",
    "\n",
    "response = request(url,\"POST\",user)\n",
    "print(response)\n",
    "id = response[\"id\"]"
   ]
  },
  {
   "cell_type": "markdown",
   "metadata": {},
   "source": [
    "### Desafío 4\n",
    "\n",
    "- Utilice la función del ejercicio 1 para actualizar un usuario, e imprima el retorno en pantalla\n"
   ]
  },
  {
   "cell_type": "code",
   "execution_count": 25,
   "metadata": {},
   "outputs": [
    {
     "data": {
      "text/plain": [
       "{'updatedAt': '2020-06-10T03:04:58.937Z'}"
      ]
     },
     "execution_count": 25,
     "metadata": {},
     "output_type": "execute_result"
    }
   ],
   "source": [
    "user = \"{\\\"name\\\": \\\"neo\\\",\\\"job\\\": \\\"developer\\\"}\"\n",
    "new_url = url + \"/{}\".format(id)\n",
    "response = request(new_url,\"PUT\",user)\n",
    "response"
   ]
  },
  {
   "cell_type": "markdown",
   "metadata": {},
   "source": [
    "### Desafío 5\n",
    "\n",
    "- Utilice la función del ejercicio 1 para eliminar un usuario, e imprima el retorno en pantalla"
   ]
  },
  {
   "cell_type": "code",
   "execution_count": 26,
   "metadata": {},
   "outputs": [
    {
     "data": {
      "text/plain": [
       "<Response [204]>"
      ]
     },
     "execution_count": 26,
     "metadata": {},
     "output_type": "execute_result"
    }
   ],
   "source": [
    "response = request(new_url,\"DELETE\")\n",
    "response"
   ]
  },
  {
   "cell_type": "code",
   "execution_count": null,
   "metadata": {},
   "outputs": [],
   "source": []
  }
 ],
 "metadata": {
  "kernelspec": {
   "display_name": "Python 3",
   "language": "python",
   "name": "python3"
  },
  "language_info": {
   "codemirror_mode": {
    "name": "ipython",
    "version": 3
   },
   "file_extension": ".py",
   "mimetype": "text/x-python",
   "name": "python",
   "nbconvert_exporter": "python",
   "pygments_lexer": "ipython3",
   "version": "3.7.6"
  }
 },
 "nbformat": 4,
 "nbformat_minor": 4
}
