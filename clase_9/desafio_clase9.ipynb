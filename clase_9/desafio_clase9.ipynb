{
 "cells": [
  {
   "cell_type": "markdown",
   "metadata": {},
   "source": [
    "# Desafío - Ventas\n",
    "Considerar este diccionario para todos los siguientes ejercicios\n",
    "\n"
   ]
  },
  {
   "cell_type": "code",
   "execution_count": 3,
   "metadata": {},
   "outputs": [],
   "source": [
    "ventas = {\n",
    "\"Enero\": 15000,\n",
    "\"Febrero\": 22000,\n",
    "\"Marzo\": 12000,\n",
    "\"Abril\": 17000,\n",
    "\"Mayo\": 81000,\n",
    "\"Junio\": 13000,\n",
    "\"Julio\": 21000,\n",
    "\"Agosto\": 41200,\n",
    "\"Septiembre\": 25000,\n",
    "\"Octubre\": 21500,\n",
    "\"Noviembre\": 91000,\n",
    "\"Diciembre\": 21000,\n",
    "}"
   ]
  },
  {
   "cell_type": "markdown",
   "metadata": {},
   "source": [
    "__1.__\n",
    "\n",
    "Crear el programa `iter1.py` .\n",
    "- Se solicita iterar el diccionario ventas y mostrar en pantalla todas los ventas superiores a 45000 (sólo el valor de la venta)\n",
    "\n",
    "Uso:\n",
    "\n",
    ">`python iter1.py`\n",
    ">\n",
    ">81000\n",
    ">\n",
    ">91000\n",
    "\n",
    "- Se evaluará el output en pantalla.\n",
    "- El diccionario utilizado para evaluar puede ser distinto y tener más o menos meses."
   ]
  },
  {
   "cell_type": "code",
   "execution_count": 6,
   "metadata": {},
   "outputs": [
    {
     "name": "stdout",
     "output_type": "stream",
     "text": [
      "81000\n",
      "91000\n"
     ]
    }
   ],
   "source": [
    "for mes, valor in ventas.items():\n",
    "    if valor > 45000:\n",
    "        print(valor)"
   ]
  },
  {
   "cell_type": "markdown",
   "metadata": {},
   "source": [
    "__2.__\n",
    "\n",
    "Iterar el diccionario `ventas` y mostrar en pantalla todos los meses cuyas ventas sean superiores a\n",
    "45000.\n",
    "Uso:\n",
    "\n",
    "\n",
    ">python `iter2.py`\n",
    ">\n",
    ">Mayo\n",
    ">\n",
    ">Noviembre\n",
    "\n",
    "Tips:\n",
    "- Respetar el nombre del programa.\n",
    "- Se evaluará el output en pantalla.\n",
    "- El diccionario utilizado para evaluar puede ser distinto y tener mas o menos meses.\n",
    "\n"
   ]
  },
  {
   "cell_type": "code",
   "execution_count": 7,
   "metadata": {},
   "outputs": [
    {
     "name": "stdout",
     "output_type": "stream",
     "text": [
      "Mayo\n",
      "Noviembre\n"
     ]
    }
   ],
   "source": [
    "for mes, valor in ventas.items():\n",
    "    if valor > 45000:\n",
    "        print(mes)"
   ]
  },
  {
   "cell_type": "markdown",
   "metadata": {},
   "source": [
    "__3.__\n",
    "\n",
    "Se pide crear un programa llamado `iter3.py` , que contenga un método llamado `filtrado` y que\n",
    "reciba 2 argumentos, un diccionario y un valor a filtrar, este método tiene que devolver un diccionario\n",
    "nuevo con los valores superiores al valor ingresado al momento de llamar al programa.\n",
    "Tips:\n",
    "- Respetar el nombre del programa\n",
    "- El diccionario utilizado para evaluar puede ser distinto y tener mas o menos meses\n",
    "- Respetar el nombre del método.\n",
    "- Se evaluará el llamado al método .\n",
    "\n"
   ]
  },
  {
   "cell_type": "code",
   "execution_count": 18,
   "metadata": {},
   "outputs": [
    {
     "data": {
      "text/plain": [
       "{'Enero': 15000,\n",
       " 'Febrero': 22000,\n",
       " 'Marzo': 12000,\n",
       " 'Abril': 17000,\n",
       " 'Mayo': 81000,\n",
       " 'Junio': 13000,\n",
       " 'Julio': 21000,\n",
       " 'Agosto': 41200,\n",
       " 'Septiembre': 25000,\n",
       " 'Octubre': 21500,\n",
       " 'Noviembre': 91000,\n",
       " 'Diciembre': 21000}"
      ]
     },
     "execution_count": 18,
     "metadata": {},
     "output_type": "execute_result"
    }
   ],
   "source": [
    "\n",
    "def filtrado(ventas_arg, valor_minimo):\n",
    "    ventas_filtrado = {}\n",
    "    for mes, valor in ventas_arg.items():\n",
    "        if valor > valor_minimo:\n",
    "            ventas_filtrado[mes] = valor\n",
    "    return ventas_filtrado\n",
    "            \n",
    "filtrado(ventas,5000)\n"
   ]
  },
  {
   "cell_type": "markdown",
   "metadata": {},
   "source": [
    "__4.__\n",
    "\n",
    "Crear un programa llamado `busqueda.py` que pueda buscar a cuál mes pertenece una o mas cifras\n",
    "específicas. En caso de no encontrarlo mostrar el mensaje \"no encontrado\"\n",
    "Uso:\n",
    "\n",
    ">`python busqueda.py 15000 31000 27000`\n",
    ">\n",
    ">Enero\n",
    ">\n",
    ">no encontrado\n",
    ">\n",
    ">no encontrado\n",
    "\n",
    "Se asumirá que en ningún mes la venta se repite.\n",
    "\n",
    "Tips:\n",
    "- Se evalúa la salida en pantalla por lo que se debe respetar el formato de los mensajes.\n",
    "- Se evaluará con un diccionario distinto al mostrado."
   ]
  },
  {
   "cell_type": "code",
   "execution_count": 26,
   "metadata": {},
   "outputs": [
    {
     "name": "stdout",
     "output_type": "stream",
     "text": [
      "Marzo\n",
      "Mayo\n",
      "Enero\n",
      "no esta\n"
     ]
    }
   ],
   "source": [
    "montos_search = [12000, 81000, 15000, 34]\n",
    "ventas_inv = {valor:mes for mes,valor in ventas.items()}\n",
    "for monto in montos_search:\n",
    "    if(ventas_inv.get(monto) != None):\n",
    "        print(ventas_inv[monto])\n",
    "    else:\n",
    "        print(\"no esta\")\n"
   ]
  },
  {
   "cell_type": "markdown",
   "metadata": {},
   "source": [
    "__5.__\n",
    "\n",
    "Generar programa `quarters.py`\n",
    "Se pide generar un diccionario, llamado `quarters` , con las ventas de cada trimestre. Las claves\n",
    "tienen que ser `\"Q1\"` , `\"Q2\"` , `\"Q3\"` , `\"Q4\"` .\n",
    "Tips:\n",
    "- Los valores ingresados serán distintos.\n",
    "- El diccionario de resultados debe llamarse quarters , pues este será el que se evalúe.\n",
    "- ¿Se necesitan los keys?\n",
    "- ¿Necesitamos iterar elementos, o elementos e índices a la vez?\n",
    "\n"
   ]
  },
  {
   "cell_type": "code",
   "execution_count": 27,
   "metadata": {},
   "outputs": [
    {
     "data": {
      "text/plain": [
       "{'Enero': 15000,\n",
       " 'Febrero': 22000,\n",
       " 'Marzo': 12000,\n",
       " 'Abril': 17000,\n",
       " 'Mayo': 81000,\n",
       " 'Junio': 13000,\n",
       " 'Julio': 21000,\n",
       " 'Agosto': 41200,\n",
       " 'Septiembre': 25000,\n",
       " 'Octubre': 21500,\n",
       " 'Noviembre': 91000,\n",
       " 'Diciembre': 21000}"
      ]
     },
     "execution_count": 27,
     "metadata": {},
     "output_type": "execute_result"
    }
   ],
   "source": [
    "ventas"
   ]
  },
  {
   "cell_type": "code",
   "execution_count": 44,
   "metadata": {},
   "outputs": [
    {
     "data": {
      "text/plain": [
       "{'Q1': [15000, 22000, 12000],\n",
       " 'Q2': [17000, 81000, 13000],\n",
       " 'Q3': [21000, 41200, 25000],\n",
       " 'Q4': [21500, 91000, 21000]}"
      ]
     },
     "execution_count": 44,
     "metadata": {},
     "output_type": "execute_result"
    }
   ],
   "source": [
    "quarters = {}\n",
    "\n",
    "Q1 = []\n",
    "Q2 = []\n",
    "Q3 = []\n",
    "Q4 = []\n",
    "for mes,valor in ventas.items():\n",
    "    if(mes == \"Enero\" or mes == \"Febrero\" or mes == \"Marzo\"):\n",
    "        #agregar a keys Q1\n",
    "        Q1.append(valor)\n",
    "    elif(mes == \"Abril\" or mes == \"Mayo\" or mes == \"Junio\"):\n",
    "        #agregar a keys Q2\n",
    "        Q2.append(valor)\n",
    "    elif(mes == \"Julio\" or mes == \"Agosto\" or mes == \"Septiembre\"):\n",
    "        Q3.append(valor)\n",
    "    elif(mes == \"Octubre\" or mes == \"Noviembre\" or mes == \"Diciembre\"):\n",
    "        Q4.append(valor)\n",
    "        \n",
    "quarters = {\"Q1\":Q1, \"Q2\": Q2, \"Q3\":Q3,\"Q4\":Q4}\n",
    "\n",
    "\n",
    "    \n",
    "quarters"
   ]
  },
  {
   "cell_type": "markdown",
   "metadata": {},
   "source": [
    "__6.__\n",
    "\n",
    "Generar programa `agrupados.py\n",
    "- Se solicita generar un diccionario con \"n\" claves, una para cada posible valor de venta dentro del\n",
    "diccionario.\n",
    "- Para cada clave generada, se debe indicar cuántas veces estuvo presente ese valor.\n",
    "\n",
    "__Ejemplo de salida__\n",
    "\n",
    "```sh\n",
    "{20000: 6,\n",
    "30000: 3,\n",
    "40000: 3}\n",
    "```\n",
    "\n",
    "Tips:\n",
    "- Los valores ingresados serán distintos.\n",
    "- Considere usar una función para obtener solo los valores del diccionario ventas.\n",
    "- Puede importar un módulo para facilitar el ejercicio.\n",
    "    - Este ejercicio se puede resolver con no más de 5 líneas de código."
   ]
  },
  {
   "cell_type": "code",
   "execution_count": 45,
   "metadata": {},
   "outputs": [],
   "source": [
    "from itertools import groupby  # importar libreria para usar groupby"
   ]
  },
  {
   "cell_type": "code",
   "execution_count": 73,
   "metadata": {},
   "outputs": [
    {
     "data": {
      "text/plain": [
       "{15000: 2, 12000: 1, 17000: 1, 21000: 1, 25000: 1, 21500: 1}"
      ]
     },
     "execution_count": 73,
     "metadata": {},
     "output_type": "execute_result"
    }
   ],
   "source": [
    "ventas = {\n",
    "\"Enero\": 15000,\n",
    "\"Febrero\": 15000,\n",
    "\"Marzo\": 12000,\n",
    "\"Abril\": 17000,\n",
    "\"Mayo\": 17000,\n",
    "\"Junio\": 17000,\n",
    "\"Julio\": 21000,\n",
    "\"Agosto\": 17000,\n",
    "\"Septiembre\": 25000,\n",
    "\"Octubre\": 21500,\n",
    "\"Noviembre\": 25000,\n",
    "\"Diciembre\": 21000,\n",
    "}\n",
    "{k: len(list(g)) for k, g in groupby(ventas.values())}"
   ]
  },
  {
   "cell_type": "code",
   "execution_count": null,
   "metadata": {},
   "outputs": [],
   "source": []
  }
 ],
 "metadata": {
  "kernelspec": {
   "display_name": "Python 3",
   "language": "python",
   "name": "python3"
  },
  "language_info": {
   "codemirror_mode": {
    "name": "ipython",
    "version": 3
   },
   "file_extension": ".py",
   "mimetype": "text/x-python",
   "name": "python",
   "nbconvert_exporter": "python",
   "pygments_lexer": "ipython3",
   "version": "3.7.6"
  }
 },
 "nbformat": 4,
 "nbformat_minor": 4
}
