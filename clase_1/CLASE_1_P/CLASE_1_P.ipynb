{
 "cells": [
  {
   "cell_type": "markdown",
   "metadata": {},
   "source": [
    "# Clase-1"
   ]
  },
  {
   "cell_type": "markdown",
   "metadata": {},
   "source": [
    "## 1 Características de Python"
   ]
  },
  {
   "cell_type": "code",
   "execution_count": 1,
   "metadata": {},
   "outputs": [],
   "source": [
    "dos_mas_dos = 2 + 2\n"
   ]
  },
  {
   "cell_type": "code",
   "execution_count": 2,
   "metadata": {},
   "outputs": [
    {
     "data": {
      "text/plain": [
       "4"
      ]
     },
     "execution_count": 2,
     "metadata": {},
     "output_type": "execute_result"
    }
   ],
   "source": [
    "dos_mas_dos"
   ]
  },
  {
   "cell_type": "code",
   "execution_count": 3,
   "metadata": {},
   "outputs": [],
   "source": [
    "numero_flotante = 3.16"
   ]
  },
  {
   "cell_type": "code",
   "execution_count": 4,
   "metadata": {},
   "outputs": [],
   "source": [
    "cadena = \"Lorem ipsum dolor sit amet\""
   ]
  },
  {
   "cell_type": "code",
   "execution_count": 5,
   "metadata": {},
   "outputs": [
    {
     "data": {
      "text/plain": [
       "7.16"
      ]
     },
     "execution_count": 5,
     "metadata": {},
     "output_type": "execute_result"
    }
   ],
   "source": [
    "dos_mas_dos + numero_flotante"
   ]
  },
  {
   "cell_type": "code",
   "execution_count": 6,
   "metadata": {},
   "outputs": [
    {
     "data": {
      "text/plain": [
       "float"
      ]
     },
     "execution_count": 6,
     "metadata": {},
     "output_type": "execute_result"
    }
   ],
   "source": [
    "type(dos_mas_dos + numero_flotante)"
   ]
  },
  {
   "cell_type": "code",
   "execution_count": 7,
   "metadata": {},
   "outputs": [],
   "source": [
    "string_4 = str(dos_mas_dos)"
   ]
  },
  {
   "cell_type": "code",
   "execution_count": 8,
   "metadata": {},
   "outputs": [
    {
     "data": {
      "text/plain": [
       "'Lorem ipsum dolor sit amet4'"
      ]
     },
     "execution_count": 8,
     "metadata": {},
     "output_type": "execute_result"
    }
   ],
   "source": [
    "cadena + str(dos_mas_dos)"
   ]
  },
  {
   "cell_type": "code",
   "execution_count": 9,
   "metadata": {},
   "outputs": [
    {
     "name": "stdout",
     "output_type": "stream",
     "text": [
      "Eres menor de edad\n"
     ]
    }
   ],
   "source": [
    "edad = 17\n",
    "\n",
    "if edad >=18:\n",
    "    print(\"Eres mayor de edad\")\n",
    "else:\n",
    "    print('Eres menor de edad')"
   ]
  },
  {
   "cell_type": "code",
   "execution_count": 10,
   "metadata": {},
   "outputs": [],
   "source": [
    "# En esta linea voy a guardar el resultado de pi\n",
    "# para ello, necesito importar el módulo math\n",
    "import math\n",
    "pi_guardado = math.pi"
   ]
  },
  {
   "cell_type": "code",
   "execution_count": 11,
   "metadata": {},
   "outputs": [
    {
     "data": {
      "text/plain": [
       "'\\nResulta que existe otra forma de exportar la funcion pi\\nAhora la vamos a ver\\n'"
      ]
     },
     "execution_count": 11,
     "metadata": {},
     "output_type": "execute_result"
    }
   ],
   "source": [
    "\"\"\"\n",
    "Resulta que existe otra forma de exportar la funcion pi\n",
    "Ahora la vamos a ver\n",
    "\"\"\""
   ]
  },
  {
   "cell_type": "code",
   "execution_count": 12,
   "metadata": {},
   "outputs": [],
   "source": [
    "from math import pi, sqrt"
   ]
  },
  {
   "cell_type": "code",
   "execution_count": 13,
   "metadata": {},
   "outputs": [
    {
     "data": {
      "text/plain": [
       "10.0"
      ]
     },
     "execution_count": 13,
     "metadata": {},
     "output_type": "execute_result"
    }
   ],
   "source": [
    "sqrt(100)"
   ]
  },
  {
   "cell_type": "code",
   "execution_count": 14,
   "metadata": {},
   "outputs": [],
   "source": [
    "cadena_1 = \"tapir, ornitorrinco, perro\"\n",
    "cadena_2 = \"gato, tortuga, hurón\""
   ]
  },
  {
   "cell_type": "code",
   "execution_count": 15,
   "metadata": {},
   "outputs": [],
   "source": [
    "cadena_3 = \"Perro\""
   ]
  },
  {
   "cell_type": "code",
   "execution_count": 16,
   "metadata": {},
   "outputs": [
    {
     "data": {
      "text/plain": [
       "'Perro'"
      ]
     },
     "execution_count": 16,
     "metadata": {},
     "output_type": "execute_result"
    }
   ],
   "source": [
    "cadena_3"
   ]
  },
  {
   "cell_type": "markdown",
   "metadata": {},
   "source": [
    "## 2 Elementos básicos de Python\n",
    "### 2.1 Comentarios"
   ]
  },
  {
   "cell_type": "code",
   "execution_count": 17,
   "metadata": {},
   "outputs": [],
   "source": [
    "# Comentarios simples\n"
   ]
  },
  {
   "cell_type": "code",
   "execution_count": 18,
   "metadata": {},
   "outputs": [
    {
     "data": {
      "text/plain": [
       "'\\nComentarios múltiples\\n'"
      ]
     },
     "execution_count": 18,
     "metadata": {},
     "output_type": "execute_result"
    }
   ],
   "source": [
    "\"\"\"\n",
    "Comentarios múltiples\n",
    "\"\"\""
   ]
  },
  {
   "cell_type": "markdown",
   "metadata": {},
   "source": [
    "### 2.2 Variables\n",
    "\n",
    "Toda operación que asigne mediante el operación = se guardará en un nombre de la variable\n",
    "\n",
    "###  2.3 Ingreso de datos\n",
    "Podemos ingresar datos con sys.argv para leer desde la consola\n",
    "Podemos ingresar datos del usuario con un prompt mediante input\n",
    "Todo valor ingresado por éstos métodos devolverá un string. Es necesario coercionar su tipo\n",
    "de dato.\n",
    "\n",
    "### 2.4 Introducción a Objetos\n",
    "#### 2.4.1 Objetos y métodos\n",
    "• Todo objeto creado en Python tendrá una clase asociada, y una serie de funciones y acciones\n",
    "que podrá realizar"
   ]
  },
  {
   "cell_type": "markdown",
   "metadata": {},
   "source": [
    "#### 2.4.2 Tipos de datos"
   ]
  },
  {
   "cell_type": "code",
   "execution_count": 19,
   "metadata": {},
   "outputs": [
    {
     "data": {
      "text/plain": [
       "False"
      ]
     },
     "execution_count": 19,
     "metadata": {},
     "output_type": "execute_result"
    }
   ],
   "source": [
    "5 == 6"
   ]
  },
  {
   "cell_type": "code",
   "execution_count": 20,
   "metadata": {},
   "outputs": [],
   "source": [
    "lista_1 = list(range(10))"
   ]
  },
  {
   "cell_type": "code",
   "execution_count": 21,
   "metadata": {},
   "outputs": [
    {
     "data": {
      "text/plain": [
       "[0, 1, 2, 3, 4, 5, 6, 7, 8, 9]"
      ]
     },
     "execution_count": 21,
     "metadata": {},
     "output_type": "execute_result"
    }
   ],
   "source": [
    "lista_1"
   ]
  },
  {
   "cell_type": "code",
   "execution_count": 22,
   "metadata": {},
   "outputs": [
    {
     "data": {
      "text/plain": [
       "list"
      ]
     },
     "execution_count": 22,
     "metadata": {},
     "output_type": "execute_result"
    }
   ],
   "source": [
    "type(lista_1)"
   ]
  },
  {
   "cell_type": "markdown",
   "metadata": {},
   "source": [
    "Evalua de izquierda a derecha, salvo que definamos operaciones dentro de paréntesis."
   ]
  },
  {
   "cell_type": "code",
   "execution_count": 23,
   "metadata": {},
   "outputs": [
    {
     "data": {
      "text/plain": [
       "False"
      ]
     },
     "execution_count": 23,
     "metadata": {},
     "output_type": "execute_result"
    }
   ],
   "source": [
    "'gato' in lista_1 "
   ]
  },
  {
   "cell_type": "markdown",
   "metadata": {},
   "source": [
    "#### 2.4.3 Distintas formas de interpolación"
   ]
  },
  {
   "cell_type": "code",
   "execution_count": 24,
   "metadata": {},
   "outputs": [
    {
     "name": "stdout",
     "output_type": "stream",
     "text": [
      "Escribe tu nombreBernarda\n",
      "Escribe tu edad45\n",
      "Bernarda -> 45\n",
      "Bernarda -> 45\n",
      "Bernarda -> 45\n"
     ]
    }
   ],
   "source": [
    "nombre = input(\"Escribe tu nombre\")\n",
    "edad = int(input(\"Escribe tu edad\"))\n",
    "\n",
    "if edad > 18:\n",
    "    # Forma uno de Python 3.x\n",
    "    print(\"{} -> {}\".format(nombre, edad))\n",
    "    # Forma dos, de python 3.5\n",
    "    print(f'{nombre} -> {edad}')\n",
    "    # forma antigua, python 2.x\n",
    "    print(\"%s -> %s\" % (nombre, edad))"
   ]
  },
  {
   "cell_type": "markdown",
   "metadata": {},
   "source": [
    "#### 2.4.4 Usos de if, elif y else\n",
    "\n",
    "* If permite evaluar una condición.\n",
    "* Elif permite evaluar una condición secundaria siempre y cuando la primera no se cumpla.\n",
    "* Else genera una condición para todos aquellos valores que no satisfagan la condipara todos aquellos valores que no satisfagan la condicieon"
   ]
  },
  {
   "cell_type": "code",
   "execution_count": 25,
   "metadata": {},
   "outputs": [
    {
     "name": "stdout",
     "output_type": "stream",
     "text": [
      "Escribe tu nombreBernarda\n",
      "Y tu edad?38\n",
      "Estás en el mercado laboral\n"
     ]
    }
   ],
   "source": [
    "nombre = input(\"Escribe tu nombre\")\n",
    "\n",
    "if (nombre !=\"Bernarda\"):\n",
    "    print(\"No eres Bernarda, vuelve a intentar\")\n",
    "elif (nombre == \"Bernarda\"):\n",
    "    edad = int(input(\"Y tu edad?\"))\n",
    "    if edad < 50:\n",
    "        print(\"Estás en el mercado laboral\")\n",
    "    else:\n",
    "        print(\"Deberías jubilar\")\n",
    "        \n",
    "    "
   ]
  },
  {
   "cell_type": "markdown",
   "metadata": {},
   "source": [
    "#### 2.5 Importancia de saber con qué tipo de dato trabajamos"
   ]
  },
  {
   "cell_type": "code",
   "execution_count": 26,
   "metadata": {},
   "outputs": [],
   "source": [
    "lista_heterogenea = ['a', 5.32, True, 'gato', 5, [1, 2, 3]]"
   ]
  },
  {
   "cell_type": "code",
   "execution_count": 27,
   "metadata": {},
   "outputs": [
    {
     "data": {
      "text/plain": [
       "['a', 5.32, True, 'gato', 5, [1, 2, 3]]"
      ]
     },
     "execution_count": 27,
     "metadata": {},
     "output_type": "execute_result"
    }
   ],
   "source": [
    "lista_heterogenea\n"
   ]
  },
  {
   "cell_type": "code",
   "execution_count": 28,
   "metadata": {},
   "outputs": [
    {
     "data": {
      "text/plain": [
       "list"
      ]
     },
     "execution_count": 28,
     "metadata": {},
     "output_type": "execute_result"
    }
   ],
   "source": [
    "type(lista_heterogenea)"
   ]
  },
  {
   "cell_type": "code",
   "execution_count": 29,
   "metadata": {},
   "outputs": [
    {
     "data": {
      "text/plain": [
       "6"
      ]
     },
     "execution_count": 29,
     "metadata": {},
     "output_type": "execute_result"
    }
   ],
   "source": [
    "len(lista_heterogenea)"
   ]
  },
  {
   "cell_type": "markdown",
   "metadata": {},
   "source": [
    "Mediante el tipo de dato podemos realizar una serie de func"
   ]
  },
  {
   "cell_type": "code",
   "execution_count": 30,
   "metadata": {},
   "outputs": [
    {
     "name": "stdout",
     "output_type": "stream",
     "text": [
      "a paralelepipedo  es cadena y genera una concatenación\n",
      "10.32  es flotante y devuelve una serie con parte decimal\n",
      "gato paralelepipedo  es cadena y genera una concatenación\n",
      "6  es entero y devuelve una suma de entero\n",
      "[1, 2, 3]  es una lista y por tanto puedo seguir iterando en ella\n",
      "1  estoy iterando en una lista y cada uno de sus elementos\n",
      "2  estoy iterando en una lista y cada uno de sus elementos\n",
      "3  estoy iterando en una lista y cada uno de sus elementos\n"
     ]
    }
   ],
   "source": [
    "for i in lista_heterogenea:\n",
    "    if type(i) is str:\n",
    "        print(i + \" paralelepipedo\", \" es cadena y genera una concatenación\")        \n",
    "    elif type(i) is int:\n",
    "        print(i + 1, \" es entero y devuelve una suma de entero\")\n",
    "    elif type(i) is float:\n",
    "        print(i + 5, \" es flotante y devuelve una serie con parte decimal\")\n",
    "    elif type(i) is list:\n",
    "        print(i, \" es una lista y por tanto puedo seguir iterando en ella\")\n",
    "        for j in i:\n",
    "            print(j, \" estoy iterando en una lista y cada uno de sus elementos\")"
   ]
  },
  {
   "cell_type": "code",
   "execution_count": 31,
   "metadata": {},
   "outputs": [
    {
     "name": "stdout",
     "output_type": "stream",
     "text": [
      "a paralelepipedo  es cadena y genera una concatenación\n",
      "10.32  es flotante y devuelve una serie con parte decimal\n",
      "gato paralelepipedo  es cadena y genera una concatenación\n",
      "6  es entero y devuelve una suma de entero\n",
      "[1, 2, 3]  es una lista y por tanto puedo seguir iterando en ella\n",
      "1  estoy iterando en una lista y cada uno de sus elementos\n",
      "2  estoy iterando en una lista y cada uno de sus elementos\n",
      "3  estoy iterando en una lista y cada uno de sus elementos\n"
     ]
    }
   ],
   "source": [
    "for i in lista_heterogenea:\n",
    "    if type(i) is str:\n",
    "        print(i + \" paralelepipedo\", \" es cadena y genera una concatenación\")        \n",
    "    if type(i) is int:\n",
    "        print(i + 1, \" es entero y devuelve una suma de entero\")\n",
    "    if type(i) is float:\n",
    "        print(i + 5, \" es flotante y devuelve una serie con parte decimal\")\n",
    "    if type(i) is list:\n",
    "        print(i, \" es una lista y por tanto puedo seguir iterando en ella\")\n",
    "        for j in i:\n",
    "            print(j, \" estoy iterando en una lista y cada uno de sus elementos\")"
   ]
  },
  {
   "cell_type": "code",
   "execution_count": null,
   "metadata": {},
   "outputs": [],
   "source": []
  },
  {
   "cell_type": "code",
   "execution_count": null,
   "metadata": {},
   "outputs": [],
   "source": []
  }
 ],
 "metadata": {
  "kernelspec": {
   "display_name": "Python 3",
   "language": "python",
   "name": "python3"
  },
  "language_info": {
   "codemirror_mode": {
    "name": "ipython",
    "version": 3
   },
   "file_extension": ".py",
   "mimetype": "text/x-python",
   "name": "python",
   "nbconvert_exporter": "python",
   "pygments_lexer": "ipython3",
   "version": "3.7.4"
  }
 },
 "nbformat": 4,
 "nbformat_minor": 2
}
