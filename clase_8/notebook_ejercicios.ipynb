{
 "cells": [
  {
   "cell_type": "markdown",
   "metadata": {},
   "source": [
    "Desafío - Juegos Olímpicos\n",
    "Por parte de la organización de los Juegos Olímpicos, se nos ha solicitado realizar un análisis de\n",
    "todos los competidores a lo largo de las olimpiadas. Para lograr este análisis, se requiere:\n",
    "\n",
    "1. Importar la base de datos athlete_events.csv , y reportar la cantidad de registros (filas) y\n",
    "de campos (columnas). El resultado debe guardarse en una variable llamada ejercicio_1 .\n",
    "tip: Puede hacer uso de .shape para esto.\n"
   ]
  },
  {
   "cell_type": "code",
   "execution_count": 140,
   "metadata": {},
   "outputs": [],
   "source": [
    "import pandas as pd"
   ]
  },
  {
   "cell_type": "code",
   "execution_count": 141,
   "metadata": {},
   "outputs": [],
   "source": [
    "df = pd.read_csv('/Users/sariasc/Projects/python/classroom_exercises/python_classes_desafioltm/clase_8/athlete_events.csv')\n"
   ]
  },
  {
   "cell_type": "code",
   "execution_count": 142,
   "metadata": {},
   "outputs": [
    {
     "data": {
      "text/plain": [
       "(271116, 15)"
      ]
     },
     "execution_count": 142,
     "metadata": {},
     "output_type": "execute_result"
    }
   ],
   "source": [
    "ejercicio_1 = df.shape\n",
    "ejercicio_1"
   ]
  },
  {
   "cell_type": "markdown",
   "metadata": {},
   "source": [
    "2. Reportar cuántas competencias se han realizado a lo largo del tiempo. El resultado debe ser\n",
    "un número entero y debe guardarse en una variable llamada ejercicio_2 .\n"
   ]
  },
  {
   "cell_type": "code",
   "execution_count": 143,
   "metadata": {},
   "outputs": [
    {
     "data": {
      "text/plain": [
       "51"
      ]
     },
     "execution_count": 143,
     "metadata": {},
     "output_type": "execute_result"
    }
   ],
   "source": [
    "ejercicio_2 = len(df[\"Games\"].unique())\n",
    "ejercicio_2"
   ]
  },
  {
   "cell_type": "markdown",
   "metadata": {},
   "source": [
    "3. Reportar el porcentaje (número entre 0 y 1) de atletas que participaron tanto en los juegos\n",
    "olímpicos de Verano como en los de Invierno. El resultado debe guardarse en una variable\n",
    "llamada ejercicio_3 ."
   ]
  },
  {
   "cell_type": "code",
   "execution_count": 144,
   "metadata": {},
   "outputs": [
    {
     "data": {
      "text/plain": [
       "Summer    0.820874\n",
       "Winter    0.179126\n",
       "Name: Season, dtype: float64"
      ]
     },
     "execution_count": 144,
     "metadata": {},
     "output_type": "execute_result"
    }
   ],
   "source": [
    "ejercicio_3 = df[\"Season\"].value_counts('%')\n",
    "ejercicio_3"
   ]
  },
  {
   "cell_type": "markdown",
   "metadata": {},
   "source": [
    "4. Informar dónde fue la primera celebración de un Juego Olímpico de Verano. El resultado debe\n",
    "guardarse en una variable llamada ejercicio_4 .\n",
    "tip: Investige sobre las funciones min() y unique() de una Serie de pandas."
   ]
  },
  {
   "cell_type": "code",
   "execution_count": 145,
   "metadata": {},
   "outputs": [
    {
     "data": {
      "text/plain": [
       "array(['Athina'], dtype=object)"
      ]
     },
     "execution_count": 145,
     "metadata": {},
     "output_type": "execute_result"
    }
   ],
   "source": [
    "ejercicio_4 = df[(df['Season'] == \"Summer\") & (df['Year'] == df[\"Year\"].min())][\"City\"].unique()\n",
    "ejercicio_4"
   ]
  },
  {
   "cell_type": "markdown",
   "metadata": {},
   "source": [
    "5. Informar dónde fue la primera celebración de un Juego Olímpico de Invierno. El resultado\n",
    "debe guardarse en una variable llamada ejercicio_5 ."
   ]
  },
  {
   "cell_type": "code",
   "execution_count": 146,
   "metadata": {},
   "outputs": [],
   "source": [
    "df_winter = df[df['Season'] == \"Winter\"]"
   ]
  },
  {
   "cell_type": "code",
   "execution_count": 147,
   "metadata": {},
   "outputs": [
    {
     "data": {
      "text/plain": [
       "array(['Chamonix'], dtype=object)"
      ]
     },
     "execution_count": 147,
     "metadata": {},
     "output_type": "execute_result"
    }
   ],
   "source": [
    "ejercicio_5 = df_winter[df_winter[\"Year\"] == df_winter[\"Year\"].min()][\"City\"].unique()\n",
    "ejercicio_5 "
   ]
  },
  {
   "cell_type": "markdown",
   "metadata": {},
   "source": [
    "6. Reportar los 10 primeros países con mayor cantidad de atletas participantes a lo largo de los\n",
    "juegos. El resultado debe guardarse en una variable llamada ejercicio_6 ."
   ]
  },
  {
   "cell_type": "code",
   "execution_count": 148,
   "metadata": {},
   "outputs": [
    {
     "data": {
      "text/plain": [
       "USA    18853\n",
       "FRA    12758\n",
       "GBR    12256\n",
       "ITA    10715\n",
       "GER     9830\n",
       "CAN     9733\n",
       "JPN     8444\n",
       "SWE     8339\n",
       "AUS     7638\n",
       "HUN     6607\n",
       "Name: NOC, dtype: int64"
      ]
     },
     "execution_count": 148,
     "metadata": {},
     "output_type": "execute_result"
    }
   ],
   "source": [
    "ejercicio_6 = df[\"NOC\"].value_counts().sort_values(ascending = False).head(10)\n",
    "ejercicio_6"
   ]
  },
  {
   "cell_type": "markdown",
   "metadata": {},
   "source": [
    "7. Reportar el porcentaje de medallas asignadas (oro, bronce, plata). El resultado debe\n",
    "guardarse en una variable llamada ejercicio_7 .\n"
   ]
  },
  {
   "cell_type": "code",
   "execution_count": 149,
   "metadata": {},
   "outputs": [
    {
     "data": {
      "text/plain": [
       "Gold      0.336123\n",
       "Bronze    0.334188\n",
       "Silver    0.329689\n",
       "Name: Medal, dtype: float64"
      ]
     },
     "execution_count": 149,
     "metadata": {},
     "output_type": "execute_result"
    }
   ],
   "source": [
    "ejercicio_7 = df[\"Medal\"].value_counts('%')\n",
    "ejercicio_7"
   ]
  },
  {
   "cell_type": "markdown",
   "metadata": {},
   "source": [
    "8. Reportar cuáles fueron los países participantes en las primeras olimpiadas de verano. El\n",
    "resultado debe guardarse en una variable llamada ejercicio_8"
   ]
  },
  {
   "cell_type": "code",
   "execution_count": 150,
   "metadata": {},
   "outputs": [
    {
     "data": {
      "text/plain": [
       "array(['GRE', 'GBR', 'SUI', 'USA', 'GER', 'FRA', 'HUN', 'AUS', 'AUT',\n",
       "       'DEN', 'ITA', 'SWE'], dtype=object)"
      ]
     },
     "execution_count": 150,
     "metadata": {},
     "output_type": "execute_result"
    }
   ],
   "source": [
    "ejercicio_8 = df[(df['Season'] == \"Summer\") & (df['Year'] == df[\"Year\"].min())][\"NOC\"].unique()\n",
    "ejercicio_8"
   ]
  },
  {
   "cell_type": "code",
   "execution_count": null,
   "metadata": {},
   "outputs": [],
   "source": []
  }
 ],
 "metadata": {
  "kernelspec": {
   "display_name": "Python 3",
   "language": "python",
   "name": "python3"
  },
  "language_info": {
   "codemirror_mode": {
    "name": "ipython",
    "version": 3
   },
   "file_extension": ".py",
   "mimetype": "text/x-python",
   "name": "python",
   "nbconvert_exporter": "python",
   "pygments_lexer": "ipython3",
   "version": "3.7.6"
  }
 },
 "nbformat": 4,
 "nbformat_minor": 4
}
