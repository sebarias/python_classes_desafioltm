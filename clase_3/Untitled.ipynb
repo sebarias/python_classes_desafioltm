{
 "cells": [
  {
   "cell_type": "markdown",
   "metadata": {},
   "source": [
    "### Creando código para la vida"
   ]
  },
  {
   "cell_type": "code",
   "execution_count": 11,
   "metadata": {},
   "outputs": [
    {
     "name": "stdout",
     "output_type": "stream",
     "text": [
      "<built-in method isnumeric of str object at 0x112822df0>\n"
     ]
    }
   ],
   "source": [
    "hola = \"hola\"\n",
    "print(hola.isnumeric)"
   ]
  },
  {
   "cell_type": "markdown",
   "metadata": {},
   "source": [
    "<p>El siguiente ejercicio determina el largo de una palabra</p>"
   ]
  },
  {
   "cell_type": "code",
   "execution_count": 12,
   "metadata": {},
   "outputs": [
    {
     "name": "stdout",
     "output_type": "stream",
     "text": [
      "Ingresa una palabra : hola\n",
      "4\n",
      "la palabra hola es corta\n"
     ]
    }
   ],
   "source": [
    "palabra = input('Ingresa una palabra : ')\n",
    "n = len(palabra)\n",
    "print(n)\n",
    "\n",
    "if n <=4:\n",
    "    print('la palabra {} es corta'.format(palabra))\n",
    "elif n <=10:\n",
    "    print('la palabra {} es mediana'.format(palabra))\n",
    "elif n < 15:\n",
    "    print('la palabra {} es larga'.format(palabra))\n",
    "else:\n",
    "    print('la palabra {} es muy larga'.format(palabra))"
   ]
  },
  {
   "cell_type": "code",
   "execution_count": null,
   "metadata": {},
   "outputs": [],
   "source": []
  },
  {
   "cell_type": "code",
   "execution_count": null,
   "metadata": {},
   "outputs": [],
   "source": []
  },
  {
   "cell_type": "code",
   "execution_count": null,
   "metadata": {},
   "outputs": [],
   "source": []
  }
 ],
 "metadata": {
  "kernelspec": {
   "display_name": "Python 3",
   "language": "python",
   "name": "python3"
  },
  "language_info": {
   "codemirror_mode": {
    "name": "ipython",
    "version": 3
   },
   "file_extension": ".py",
   "mimetype": "text/x-python",
   "name": "python",
   "nbconvert_exporter": "python",
   "pygments_lexer": "ipython3",
   "version": "3.7.6"
  }
 },
 "nbformat": 4,
 "nbformat_minor": 4
}
