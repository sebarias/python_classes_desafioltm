{
 "cells": [
  {
   "cell_type": "markdown",
   "metadata": {},
   "source": [
    "# Desafíos de funciones\n",
    "\n",
    "Instrucciones\n",
    "A continuación de detallan variados desafíos a desarrollar\n",
    "\n",
    "**Importante:** Cada vez se utilice el método input debe agregar un salto de línea al final (\\n).\n",
    "Ejemplo:\n",
    "\n",
    "```sh\n",
    "cuenta_regresiva = int(input(\"Ingrese un número para comenzar la cuenta\\n\"))\n",
    "```"
   ]
  },
  {
   "cell_type": "markdown",
   "metadata": {},
   "source": [
    "\n",
    "# Reemplazar while por for\n",
    "Reemplazar la instrucción `while` por `for` dentro del programa.\n",
    "La impresión debe ser la misma:\n",
    "\n",
    "```sh\n",
    "i = 0\n",
    "while i < 50:\n",
    "print(\"Iteración {}\".format(i + 1))\n",
    "i +=1\n",
    "```\n",
    "\n",
    "Tip: Cuidado con condición."
   ]
  },
  {
   "cell_type": "code",
   "execution_count": 8,
   "metadata": {},
   "outputs": [
    {
     "name": "stdout",
     "output_type": "stream",
     "text": [
      "Iteracionn 1\n",
      "Iteracionn 2\n",
      "Iteracionn 3\n",
      "Iteracionn 4\n",
      "Iteracionn 5\n",
      "Iteracionn 6\n",
      "Iteracionn 7\n",
      "Iteracionn 8\n",
      "Iteracionn 9\n",
      "Iteracionn 10\n"
     ]
    }
   ],
   "source": [
    "i = 0\n",
    "# while i < 50:\n",
    "#     print(\"Iteracionn {}\".format(i + 1))\n",
    "# i +=1\n",
    "\n",
    "for i in range(10):\n",
    "    print(\"Iteracionn {}\".format(i + 1))"
   ]
  },
  {
   "cell_type": "markdown",
   "metadata": {},
   "source": [
    "\n",
    "# Desafío - Reemplazar instrucción for por while\n",
    "Reemplazar la instrucción `for` por `while` dentro del programa.\n",
    "La impresión debe ser la misma:\n",
    "\n",
    "```sh\n",
    "cuenta_regresiva = int(input(\"Ingrese un número para comenzar la cuenta\\n\"))\n",
    "\n",
    "for i in range(cuenta_regresiva):\n",
    "tmp = cuenta_regresiva\n",
    "print(\"Iteración {}\".format(tmp - i))\n",
    "```\n"
   ]
  },
  {
   "cell_type": "code",
   "execution_count": 28,
   "metadata": {},
   "outputs": [
    {
     "name": "stdout",
     "output_type": "stream",
     "text": [
      "Ingrese un número para comenzar la cuenta\n",
      "1\n",
      "Iteración 1\n"
     ]
    }
   ],
   "source": [
    "cuenta_regresiva = int(input(\"Ingrese un número para comenzar la cuenta\\n\"))\n",
    "# for i in range(cuenta_regresiva):\n",
    "#     tmp = cuenta_regresiva\n",
    "#     print(\"Iteración {}\".format(tmp - i))\n",
    "\n",
    "while cuenta_regresiva > 0:\n",
    "    print(\"Iteración {}\".format(cuenta_regresiva))\n",
    "    cuenta_regresiva -= 1\n"
   ]
  },
  {
   "cell_type": "markdown",
   "metadata": {},
   "source": [
    "# Desafío - Números pares\n",
    "\n",
    "Crear un programa, que muestre todos los números pares hasta \"n\"\n",
    "(incluyendo \"n\", si éste es par), donde \"n\" es un valor ingresado por el usuario.\n",
    "uso:\n",
    "\n",
    "```sh\n",
    "0\n",
    "2\n",
    "4\n",
    "6\n",
    "8\n",
    "```"
   ]
  },
  {
   "cell_type": "code",
   "execution_count": 27,
   "metadata": {},
   "outputs": [
    {
     "name": "stdout",
     "output_type": "stream",
     "text": [
      "Ingrese un numero: 1\n",
      "0\n"
     ]
    }
   ],
   "source": [
    "numero_usuario = int(input(\"Ingrese un numero: \"))\n",
    "\n",
    "for i in range(numero_usuario + 1):\n",
    "    if(i % 2 == 0):\n",
    "        print(i)"
   ]
  },
  {
   "cell_type": "markdown",
   "metadata": {},
   "source": [
    "Crear una variante del programa anterior, en este caso, el cero no\n",
    "debe ser considerado (el cero no es par).\n",
    "```sh\n",
    "2\n",
    "4\n",
    "6\n",
    "8\n",
    "```"
   ]
  },
  {
   "cell_type": "code",
   "execution_count": 26,
   "metadata": {},
   "outputs": [
    {
     "name": "stdout",
     "output_type": "stream",
     "text": [
      "Ingrese un numero: 1\n"
     ]
    }
   ],
   "source": [
    "numero_usuario = int(input(\"Ingrese un numero: \"))\n",
    "\n",
    "for i in range(numero_usuario + 1):\n",
    "    if(i % 2 == 0 and i != 0):\n",
    "        print(i)\n"
   ]
  },
  {
   "cell_type": "markdown",
   "metadata": {},
   "source": [
    "# Desafío - Números impares\n",
    "\n",
    "Crear un programa, que muestre todos los números **impares** hasta \"n\"\n",
    "(incluyendo \"n\", si éste es impar), donde \"n\" es un valor ingresado por el usuario.\n",
    "Tip: el número siguiente a un par siempre es un impar :)\n",
    "uso:\n",
    "\n",
    "```sh\n",
    "1\n",
    "3\n",
    "5\n",
    "7\n",
    "9\n",
    "```"
   ]
  },
  {
   "cell_type": "code",
   "execution_count": 25,
   "metadata": {},
   "outputs": [
    {
     "name": "stdout",
     "output_type": "stream",
     "text": [
      "Ingrese un numero: 1\n",
      "1\n"
     ]
    }
   ],
   "source": [
    "numero_usuario = int(input(\"Ingrese un numero: \"))\n",
    "\n",
    "for i in range(numero_usuario + 1):\n",
    "    if(i % 2 != 0 and i != 0):\n",
    "        print(i)"
   ]
  },
  {
   "cell_type": "markdown",
   "metadata": {},
   "source": [
    "# Desafío - Sumar pares\n",
    "\n",
    "Crear un programa que sume todos los números pares hasta \"n\" (incluyendo \"n\"\n",
    "si éste es par), donde \"n\" es ingresado por el usuario.\n",
    "Tip: El cero no es par; no afecta en la suma, pero se debe tener cuidado con los bordes del ciclo.\n",
    "uso:\n",
    "> 2 + 4 + 6 + 8 + 10 # iteraciones\n",
    ">\n",
    "> 30 # salida"
   ]
  },
  {
   "cell_type": "code",
   "execution_count": 24,
   "metadata": {},
   "outputs": [
    {
     "name": "stdout",
     "output_type": "stream",
     "text": [
      "Ingrese un numero: 1\n",
      "0\n"
     ]
    }
   ],
   "source": [
    "numero_usuario = int(input(\"Ingrese un numero: \"))\n",
    "\n",
    "sum = 0\n",
    "for i in range(numero_usuario + 1):\n",
    "    if(i % 2 == 0 and i != 0):\n",
    "        sum += i\n",
    "\n",
    "print(sum)"
   ]
  },
  {
   "cell_type": "markdown",
   "metadata": {},
   "source": [
    "# Desafío - Generar patrón\n",
    "\n",
    "Debe crear un programa que logre replicar el siguiente patrón, donde el usuario ingrese un número, y ese\n",
    "número corresponderá al número de filas que se debe generar. La soluciṕon debe estar dentro del\n",
    "programa.\n",
    "\n",
    ">1\n",
    ">\n",
    ">12\n",
    ">\n",
    ">123\n",
    ">\n",
    ">1234\n",
    ">\n",
    ">12345\n",
    "\n",
    "Considerar que el patrón **debe comenzar por el número 1**, y por ende, el último número de la última fila\n",
    "corresponderá al número ingresado."
   ]
  },
  {
   "cell_type": "code",
   "execution_count": 29,
   "metadata": {},
   "outputs": [
    {
     "name": "stdout",
     "output_type": "stream",
     "text": [
      "Ingrese un numero: 1\n",
      "1\n"
     ]
    }
   ],
   "source": [
    "numero_usuario = int(input(\"Ingrese un numero: \"))\n",
    "\n",
    "cadena = \"\"\n",
    "for i in range(numero_usuario):\n",
    "    cadena += str(i + 1)\n",
    "    print(cadena)"
   ]
  },
  {
   "cell_type": "markdown",
   "metadata": {},
   "source": [
    "# Desafío - Generador de Lorem ipsum\n",
    "\n",
    "Crear un programa, que sea capaz de mostrar en pantalla varios párrafos\n",
    "de \"Lorem ipsum\", donde el número de párrafos se especifica al cargar el script.\n",
    "El texto puede ser extraído del primer párrafo de https://www.lipsum.com/feed/html\n",
    "Uso: \n",
    "\n",
    ">Lorem ipsum dolor sit amet, consectetur adipiscing elit. Morbi ac lacinia nibh, nec faucibus enim.\n",
    "Nullam quis lorem posuere, hendrerit tellus eget, tincidunt ipsum. Nam nulla tortor, elementum in elit\n",
    "nec, fermentum dignissim sapien. Sed a mattis nisi, sit amet dignissim elit. Sed finibus eros sit amet\n",
    "ipsum scelerisque interdum. Curabitur justo nibh, viverra a elit vel, elementum hendrerit erat. Duis\n",
    "feugiat mattis ante vel hendrerit. Etiam nec nibh nulla. Class aptent taciti sociosqu ad litora torquent\n",
    "per conubia nostra, per inceptos himenaeos.\n",
    ">\n",
    ">Lorem ipsum dolor sit amet, consectetur adipiscing elit. Morbi ac lacinia nibh, nec faucibus enim.\n",
    "Nullam quis lorem posuere, hendrerit tellus eget, tincidunt ipsum. Nam nulla tortor, elementum in elit\n",
    "nec, fermentum dignissim sapien. Sed a mattis nisi, sit amet dignissim elit. Sed finibus eros sit amet\n",
    "ipsum scelerisque interdum. Curabitur justo nibh, viverra a elit vel, elementum hendrerit erat. Duis\n",
    "feugiat mattis ante vel hendrerit. Etiam nec nibh nulla. Class aptent taciti sociosqu ad litora torquent\n",
    "per conubia nostra, per inceptos himenaeos.\n",
    ">\n",
    ">Lorem ipsum dolor sit amet, consectetur adipiscing elit. Morbi ac lacinia nibh, nec faucibus enim.\n",
    "Nullam quis lorem posuere, hendrerit tellus eget, tincidunt ipsum. Nam nulla tortor, elementum in elit\n",
    "nec, fermentum dignissim sapien. Sed a mattis nisi, sit amet dignissim elit. Sed finibus eros sit amet\n",
    "ipsum scelerisque interdum. Curabitur justo nibh, viverra a elit vel, elementum hendrerit erat. Duis\n",
    "feugiat mattis ante vel hendrerit. Etiam nec nibh nulla. Class aptent taciti sociosqu ad litora torquent\n",
    "per conubia nostra, per inceptos himenaeos."
   ]
  },
  {
   "cell_type": "code",
   "execution_count": 19,
   "metadata": {},
   "outputs": [
    {
     "name": "stdout",
     "output_type": "stream",
     "text": [
      "Requirement already satisfied: Lorem in /Users/sariasc/.local/lib/python3.7/site-packages (0.1.1)\r\n"
     ]
    }
   ],
   "source": [
    "!pip install Lorem"
   ]
  },
  {
   "cell_type": "code",
   "execution_count": 30,
   "metadata": {},
   "outputs": [
    {
     "name": "stdout",
     "output_type": "stream",
     "text": [
      "ingrese cantidad de parrafos: 5\n",
      "Amet dolor quisquam labore. Tempora ut amet quisquam eius dolorem magnam. Tempora etincidunt quiquia ut. Non eius tempora porro tempora adipisci neque. Adipisci quiquia dolore quiquia dolore. Tempora sit est labore sit. Velit labore porro dolore quisquam quiquia modi velit. Porro sed aliquam labore porro voluptatem.\n",
      "\n",
      "Ipsum neque amet numquam amet modi. Neque dolor consectetur magnam. Modi sit quiquia numquam. Dolorem velit ipsum dolorem adipisci neque labore voluptatem. Eius ipsum neque labore amet eius consectetur. Tempora dolor sed consectetur sed labore adipisci. Amet quisquam ut etincidunt amet eius numquam.\n",
      "\n",
      "Neque sed eius est sit labore sit est. Quisquam consectetur amet modi est. Consectetur voluptatem sed sit quaerat dolor adipisci. Etincidunt amet magnam velit amet eius aliquam aliquam. Quisquam non quiquia neque aliquam quaerat. Porro sed etincidunt dolorem sed tempora numquam magnam. Etincidunt eius quaerat dolor amet non. Velit voluptatem dolore est. Consectetur tempora amet ipsum magnam. Non non eius ut.\n",
      "\n",
      "Est modi non quaerat est amet quaerat etincidunt. Labore consectetur ut sed dolore. Labore dolor ut etincidunt modi dolor. Consectetur etincidunt velit velit magnam. Ipsum non ut quisquam etincidunt dolorem. Voluptatem non consectetur magnam quiquia porro quiquia neque. Ipsum quisquam magnam sit adipisci.\n",
      "\n",
      "Sit adipisci quiquia dolore non numquam sit eius. Etincidunt quiquia velit adipisci. Magnam modi ipsum tempora magnam non non labore. Modi dolore non labore sit amet voluptatem est. Ipsum neque magnam dolorem sed quaerat. Est neque ipsum ut quisquam consectetur. Dolorem amet eius ipsum etincidunt eius neque labore. Modi porro quaerat labore non.\n",
      "\n"
     ]
    }
   ],
   "source": [
    "import sys\n",
    "import lorem\n",
    "\n",
    "cantidad_parrafos = int(input(\"ingrese cantidad de parrafos: \"))\n",
    "\n",
    "while cantidad_parrafos > 0:\n",
    "    print(lorem.paragraph())\n",
    "    print()\n",
    "    cantidad_parrafos -= 1"
   ]
  },
  {
   "cell_type": "markdown",
   "metadata": {},
   "source": [
    "# Desafío - Fuerza bruta\n",
    "\n",
    "Se busca crear un programa que revise cuántos intentos se requieren para hackear un\n",
    "password por fuerza bruta.\n",
    "Uso: \n",
    "> Ingresa contraseña\n",
    ">\n",
    "> gato\n",
    ">\n",
    ">43 intentos\n",
    "\n",
    "Para ello, el programa debe intentar todas las combinaciones de letras posibles, en orden alfabético, hasta\n",
    "que la combinación de letras sea igual a la de la contraseña indicada. Deberá hacer este proceso letra por\n",
    "letra, de izquierda a derecha.\n",
    "\n",
    "Es decir:\n",
    "\n",
    "- Primero probará con a, luego b, luego c ... hasta z, o hasta que encuentre una letra igual a la primera\n",
    "letra de la contraseña.\n",
    "- Suponiendo que la primera letra correspondía a \"d\", después empezará a comparar la segunda letra\n",
    "de la forma da, db, dc, dd... hasta encontrar la coincidencia de la segunda letra.\n",
    "- Suponiendo que la segunda letra era \"e\", continuará luego comparando la tercera letra de la forma\n",
    "dea, deb, dec ...etc.\n",
    "- Y así sucesivamente hasta completar la comparación con cada letra de la contraseña.\n",
    "\n",
    "__Considerar:__\n",
    "\n",
    "- Se asume que el programa sólo tiene letras, las cuales sepueden repetir.\n",
    "- Considera mayúsculas y minúsculas como una misma letra.\n",
    "- Se considera \"intento\" cada vez que se compara una letra.\n",
    "\n",
    "    __Ejemplo:__\n",
    "        - Usuario ingresa \"abc\"\n",
    "        - El computador compara:\n",
    " `a` es igual a `a` => Sí (1 intento), continúa con la siguiente letra\n",
    " \n",
    " `b` es igual a `a` => No (2 intentos), prueba otra comparación\n",
    " \n",
    " `b` es igual a `b` => Sí (3 intentos), continúa con la siguiente letra\n",
    " \n",
    " `c` es igual a `a` => No (4 intentos), prueba con otra comparación\n",
    " \n",
    " `c` es igual a `b` => No (5 intentos), prueba con otra comparación\n",
    " \n",
    " `c` es igual a `a` => Sí (6 intentos), continúa con la siguiente letra\n",
    " \n",
    "  No hay más letras. Se adivinó la palabra en 6 intentos\n",
    "  \n",
    "  \n",
    "Debes saber:\n",
    "Para este ejercicio, se debe recordar que un ciclo `for` recorrerá los elementos de una estructura _**iterable**_. En\n",
    "la lectura, se vio ejemplos recorriendo rangos, por lo que los elementos recorridos siempre fueron números.\n",
    "Pero también es posible recorrer _**strings**_, donde cada elemento iterado (dado por el iterador del ciclo,\n",
    "normalmente `i` ) corresponderá a una letra de la palabra o texto contenedor (se va recorriendo de una en\n",
    "una letra, de izquierda a derecha).\n",
    "\n",
    "Se sugiere investigar el módulo `string` para ver cómo recorrer el abecedario.\n",
    "\n",
    "La solución debe estar dentro del programa .\n",
    "\n",
    "Tips:\n",
    "\n",
    "- Partir con intento = 'a'.\n",
    "- Si sospecha que su programa se ha \"colgado\" porque ha entrado en un \"loop infinito\", puede detener\n",
    "su ejecución con la combinación de letras `ctrl + c` en la terminal."
   ]
  },
  {
   "cell_type": "code",
   "execution_count": 22,
   "metadata": {},
   "outputs": [
    {
     "name": "stdout",
     "output_type": "stream",
     "text": [
      "ingrese contraseña: gato\n",
      "43\n"
     ]
    }
   ],
   "source": [
    "contrasenia = input(\"ingrese contraseña: \")\n",
    "abecedario = \"abcdefghijklmnopqrstuvwxyz\"\n",
    "intentos = 0\n",
    "for i in contrasenia:\n",
    "    for j in abecedario:\n",
    "        intentos += 1\n",
    "        if(i.lower() == j.lower()):\n",
    "            break\n",
    "        \n",
    "print(intentos)"
   ]
  }
 ],
 "metadata": {
  "kernelspec": {
   "display_name": "Python 3",
   "language": "python",
   "name": "python3"
  },
  "language_info": {
   "codemirror_mode": {
    "name": "ipython",
    "version": 3
   },
   "file_extension": ".py",
   "mimetype": "text/x-python",
   "name": "python",
   "nbconvert_exporter": "python",
   "pygments_lexer": "ipython3",
   "version": "3.7.6"
  }
 },
 "nbformat": 4,
 "nbformat_minor": 4
}
